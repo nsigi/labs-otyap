{
 "cells": [
  {
   "cell_type": "code",
   "execution_count": 8,
   "id": "42b7bac9",
   "metadata": {},
   "outputs": [
    {
     "name": "stdout",
     "output_type": "stream",
     "text": [
      "5\n",
      "8 1 1 5 5\n",
      "-1\n"
     ]
    }
   ],
   "source": [
    "\n",
    "n= int(input())\n",
    "def getBit(i, j):\n",
    "    if (i and (1 << j)) != 0:\n",
    "        getBit = 1\n",
    "    else:\n",
    "        getBit = 0\n",
    "a = [int(i) for i in input().split(' ')]\n",
    "found = False\n",
    "s = 10\n",
    "for i in range(0, (1 << (n - 1)) - 1):\n",
    "    res = a[1];\n",
    "    for j in range(0, n - 2):\n",
    "        if getBit(i , j) == 0:\n",
    "            res += a[2 + j]\n",
    "        else:\n",
    "            res -= a[2 + j]\n",
    "    if res == s:\n",
    "        print(a[1]);\n",
    "        for j in range(0, n - 2):\n",
    "            if getBit(i , j) == 0:\n",
    "                print('+' , a[2 + j])\n",
    "            else:\n",
    "                print('-' , a[2 + j])\n",
    "        found = true\n",
    "        print('=' , s)\n",
    "        break\n",
    "   \n",
    "if not found:\n",
    "    print(-1)"
   ]
  }
 ],
 "metadata": {
  "kernelspec": {
   "display_name": "Python 3 (ipykernel)",
   "language": "python",
   "name": "python3"
  },
  "language_info": {
   "codemirror_mode": {
    "name": "ipython",
    "version": 3
   },
   "file_extension": ".py",
   "mimetype": "text/x-python",
   "name": "python",
   "nbconvert_exporter": "python",
   "pygments_lexer": "ipython3",
   "version": "3.9.7"
  }
 },
 "nbformat": 4,
 "nbformat_minor": 5
}
